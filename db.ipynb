{
 "cells": [
  {
   "cell_type": "code",
   "execution_count": null,
   "id": "09f72aa2",
   "metadata": {},
   "outputs": [],
   "source": [
    "import sqlite3\n",
    "import csv\n",
    "\n",
    "conn = sqlite3.connect(\"sqlite.db\")\n",
    "cursor = conn.cursor()"
   ]
  },
  {
   "cell_type": "code",
   "execution_count": null,
   "id": "39112d82",
   "metadata": {},
   "outputs": [
    {
     "name": "stdout",
     "output_type": "stream",
     "text": [
      "CSV data imported into SQLite database successfully.\n"
     ]
    }
   ],
   "source": [
    "# Create table\n",
    "cursor.execute(\n",
    "    \"\"\"\n",
    "CREATE TABLE IF NOT EXISTS sales (\n",
    "    Item_Fat_Content TEXT,\n",
    "    Item_Identifier TEXT,\n",
    "    Item_Type TEXT,\n",
    "    Outlet_Establishment_Year INTEGER,\n",
    "    Outlet_Identifier TEXT,\n",
    "    Outlet_Location_Type TEXT,\n",
    "    Outlet_Size TEXT,\n",
    "    Outlet_Type TEXT,\n",
    "    Item_Visibility REAL,\n",
    "    Item_Weight REAL,\n",
    "    Sales REAL,\n",
    "    Rating REAL\n",
    ")\n",
    "\"\"\"\n",
    ")\n",
    "\n",
    "\n",
    "def to_float(val):\n",
    "    return float(val) if val.strip() else None  # or 0.0 if you prefer\n",
    "\n",
    "\n",
    "def to_int(val):\n",
    "    return int(val) if val.strip() else None  # or 0\n",
    "\n",
    "\n",
    "with open(\"./blinkit_grocery_data.csv\", newline=\"\", encoding=\"utf-8-sig\") as csvfile:\n",
    "    reader = csv.DictReader(csvfile)\n",
    "    rows = [\n",
    "        (\n",
    "            row[\"Item Fat Content\"],\n",
    "            row[\"Item Identifier\"],\n",
    "            row[\"Item Type\"],\n",
    "            to_int(row[\"Outlet Establishment Year\"]),\n",
    "            row[\"Outlet Identifier\"],\n",
    "            row[\"Outlet Location Type\"],\n",
    "            row[\"Outlet Size\"],\n",
    "            row[\"Outlet Type\"],\n",
    "            to_float(row[\"Item Visibility\"]),\n",
    "            to_float(row[\"Item Weight\"]),\n",
    "            to_float(row[\"Sales\"]),\n",
    "            to_float(row[\"Rating\"]),\n",
    "        )\n",
    "        for row in reader\n",
    "    ]\n",
    "\n",
    "\n",
    "cursor.executemany(\n",
    "    \"\"\"\n",
    "INSERT INTO sales VALUES (?, ?, ?, ?, ?, ?, ?, ?, ?, ?, ?, ?)\n",
    "\"\"\",\n",
    "    rows,\n",
    ")\n",
    "\n",
    "# Commit\n",
    "conn.commit()\n",
    "\n",
    "print(\"CSV data imported into SQLite database successfully.\")"
   ]
  },
  {
   "cell_type": "code",
   "execution_count": null,
   "id": "fcbc02fb",
   "metadata": {},
   "outputs": [
    {
     "name": "stdout",
     "output_type": "stream",
     "text": [
      "('DRA12', 11.6, 6)\n",
      "('DRA24', None, 0)\n",
      "('DRA24', 19.35, 5)\n",
      "('DRA59', None, 0)\n",
      "('DRA59', 8.27, 6)\n",
      "('DRB01', None, 0)\n",
      "('DRB01', 7.39, 2)\n",
      "('DRB13', 6.115, 5)\n",
      "('DRB24', 8.785, 4)\n",
      "('DRB25', None, 0)\n"
     ]
    }
   ],
   "source": [
    "cursor.execute(\n",
    "    \"SELECT item_identifier, item_weight, count(item_weight) FROM sales GROUP BY item_identifier, item_weight LIMIT 10\"\n",
    ")\n",
    "rows = cursor.fetchall()\n",
    "for row in rows:\n",
    "    print(row)"
   ]
  },
  {
   "cell_type": "code",
   "execution_count": null,
   "id": "9a9f6a7d",
   "metadata": {},
   "outputs": [],
   "source": [
    "# Update item_weight for NULL values\n",
    "cursor.execute(\n",
    "    \"\"\"\n",
    "UPDATE sales\n",
    "SET item_weight = (\n",
    "    SELECT DISTINCT a.item_weight\n",
    "    FROM sales a\n",
    "    WHERE a.item_identifier = sales.item_identifier\n",
    "    AND a.item_weight IS NOT NULL\n",
    ")\n",
    "WHERE item_weight IS NULL\n",
    "\"\"\"\n",
    ")\n",
    "conn.commit()"
   ]
  },
  {
   "cell_type": "code",
   "execution_count": null,
   "id": "1f75d7a6",
   "metadata": {},
   "outputs": [],
   "source": [
    "cursor.execute(\n",
    "    \"UPDATE sales SET item_fat_content = 'Low Fat' WHERE item_fat_content = 'LF'\"\n",
    ")\n",
    "cursor.execute(\n",
    "    \"UPDATE sales SET item_fat_content = 'Low Fat' WHERE item_fat_content = 'low fat'\"\n",
    ")\n",
    "cursor.execute(\n",
    "    \"UPDATE sales SET item_fat_content = 'Regular' WHERE item_fat_content = 'reg'\"\n",
    ")\n",
    "conn.commit()"
   ]
  },
  {
   "cell_type": "code",
   "execution_count": null,
   "id": "a647e143",
   "metadata": {},
   "outputs": [],
   "source": [
    "cursor.execute(\n",
    "    \"\"\"SELECT a.item_identifier, \n",
    "               a.item_fat_content, \n",
    "               a.item_type, \n",
    "               a.item_weight, \n",
    "               count(a.item_identifier) \n",
    "               FROM \n",
    "               (SELECT DISTINCT item_identifier, \n",
    "               item_fat_content, \n",
    "               item_type, \n",
    "               item_weight \n",
    "               FROM sales) a \n",
    "               GROUP BY a.item_identifier \n",
    "               HAVING count(a.item_identifier) > 1\"\"\"\n",
    ")\n",
    "\n",
    "rows = cursor.fetchall()\n",
    "for row in rows:\n",
    "    print(row)"
   ]
  },
  {
   "cell_type": "code",
   "execution_count": null,
   "id": "2a949760",
   "metadata": {},
   "outputs": [],
   "source": [
    "# create an item table with item_identifier, item_fat_content, item_type, item_weight\n",
    "cursor.execute(\n",
    "    \"\"\"\n",
    "CREATE TABLE IF NOT EXISTS items (\n",
    "    item_identifier TEXT PRIMARY KEY,\n",
    "    item_fat_content TEXT,\n",
    "    item_type TEXT,\n",
    "    item_weight REAL\n",
    ")\n",
    "\"\"\"\n",
    ")\n",
    "\n",
    "# insert data into items table\n",
    "cursor.execute(\n",
    "    \"\"\"\n",
    "INSERT INTO items (item_identifier, item_fat_content, item_type, item_weight)\n",
    "SELECT DISTINCT item_identifier, item_fat_content, item_type, item_weight FROM sales\n",
    "\"\"\"\n",
    ")\n",
    "conn.commit()"
   ]
  },
  {
   "cell_type": "code",
   "execution_count": null,
   "id": "d14da612",
   "metadata": {},
   "outputs": [],
   "source": [
    "# create an outlet table with outlet_identifier, outlet_establishment_year, outlet_location_type, outlet_size, outlet_type\n",
    "cursor.execute(\n",
    "    \"\"\"\n",
    "CREATE TABLE IF NOT EXISTS outlets (\n",
    "    outlet_identifier TEXT PRIMARY KEY,\n",
    "    outlet_establishment_year INTEGER,\n",
    "    outlet_location_type TEXT,\n",
    "    outlet_type TEXT\n",
    ")\n",
    "\"\"\"\n",
    ")\n",
    "\n",
    "# insert data into outlets table\n",
    "cursor.execute(\n",
    "    \"\"\"\n",
    "INSERT INTO outlets (outlet_identifier, outlet_establishment_year, outlet_location_type, outlet_type)\n",
    "SELECT DISTINCT outlet_identifier, outlet_establishment_year, outlet_location_type, outlet_type FROM sales\n",
    "\"\"\"\n",
    ")\n",
    "conn.commit()"
   ]
  },
  {
   "cell_type": "code",
   "execution_count": null,
   "id": "a4f6632a",
   "metadata": {},
   "outputs": [],
   "source": [
    "# create a sales table with item_identifier, outlet_identifier, item_visibility, sales, rating\n",
    "cursor.execute(\n",
    "    \"\"\"\n",
    "CREATE TABLE sales_new AS\n",
    "SELECT \n",
    "    item_identifier,\n",
    "    outlet_identifier,\n",
    "    outlet_size,\n",
    "    item_visibility,\n",
    "    sales,\n",
    "    rating\n",
    "FROM sales\n",
    "\"\"\"\n",
    ")\n",
    "\n",
    "cursor.execute(\"DROP TABLE sales\")\n",
    "\n",
    "cursor.execute(\"ALTER TABLE sales_new RENAME TO sales\")\n",
    "\n",
    "conn.commit()"
   ]
  },
  {
   "cell_type": "code",
   "execution_count": 11,
   "id": "013119a0",
   "metadata": {},
   "outputs": [],
   "source": [
    "conn.close()"
   ]
  }
 ],
 "metadata": {
  "kernelspec": {
   "display_name": "base",
   "language": "python",
   "name": "python3"
  },
  "language_info": {
   "codemirror_mode": {
    "name": "ipython",
    "version": 3
   },
   "file_extension": ".py",
   "mimetype": "text/x-python",
   "name": "python",
   "nbconvert_exporter": "python",
   "pygments_lexer": "ipython3",
   "version": "3.11.11"
  }
 },
 "nbformat": 4,
 "nbformat_minor": 5
}
